{
 "cells": [
  {
   "cell_type": "code",
   "execution_count": 122,
   "metadata": {},
   "outputs": [
    {
     "name": "stdout",
     "output_type": "stream",
     "text": [
      "The autoreload extension is already loaded. To reload it, use:\n",
      "  %reload_ext autoreload\n"
     ]
    }
   ],
   "source": [
    "%load_ext autoreload\n",
    "%autoreload 2\n",
    "\n",
    "import torch\n",
    "import torch.nn as nn\n",
    "import torch.optim as optim\n",
    "from torch.autograd import Variable\n",
    "from torchvision import datasets, transforms\n",
    "\n",
    "import matplotlib.pyplot as plt\n",
    "import numpy as np\n",
    "import seaborn\n",
    "import matplotlib.patches as patches\n",
    "from scipy.spatial import HalfspaceIntersection\n",
    "\n",
    "%matplotlib inline\n",
    "# import mpld3\n",
    "# mpld3.enable_notebook()"
   ]
  },
  {
   "cell_type": "markdown",
   "metadata": {},
   "source": [
    "Examples of plotting a polytope"
   ]
  },
  {
   "cell_type": "code",
   "execution_count": 123,
   "metadata": {},
   "outputs": [],
   "source": [
    "from scipy.spatial import HalfspaceIntersection\n",
    "halfspaces = np.array([[-1, 0., 1.],\n",
    "                       [0., -1., 0.],\n",
    "                       [2., 1., -4.],\n",
    "                       [-0.5, 1., -2.]])\n",
    "\n",
    "from scipy.optimize import linprog\n",
    "from matplotlib.patches import Circle\n",
    "norm_vector = np.reshape(np.linalg.norm(halfspaces[:, :-1], axis=1),\n",
    "    (halfspaces.shape[0], 1))\n",
    "c = np.zeros((halfspaces.shape[1],))\n",
    "c[-1] = -1\n",
    "A = np.hstack((halfspaces[:, :-1], norm_vector))\n",
    "b = - halfspaces[:, -1:]\n",
    "res = linprog(c, A_ub=A, b_ub=b)\n",
    "x = res.x[:-1]\n",
    "y = res.x[-1]\n",
    "feasible_point = x\n",
    "hs = HalfspaceIntersection(halfspaces, feasible_point)"
   ]
  },
  {
   "cell_type": "code",
   "execution_count": 124,
   "metadata": {},
   "outputs": [
    {
     "data": {
      "image/png": "[encoded data removed]",
      "text/plain": [
       "<Figure size 432x288 with 1 Axes>"
      ]
     },
     "metadata": {
      "needs_background": "light"
     },
     "output_type": "display_data"
    }
   ],
   "source": [
    "import matplotlib.pyplot as plt\n",
    "fig = plt.figure()\n",
    "ax = fig.add_subplot('111', aspect='equal')\n",
    "xlim, ylim = (-1, 3), (-1, 3)\n",
    "ax.set_xlim(xlim)\n",
    "ax.set_ylim(ylim)\n",
    "x = np.linspace(-1, 3, 100)\n",
    "symbols = ['-', '+', 'x', '*']\n",
    "signs = [0, 0, -1, -1]\n",
    "fmt = {\"color\": None, \"edgecolor\": \"b\", \"alpha\": 0.5}\n",
    "for h, sym, sign in zip(halfspaces, symbols, signs):\n",
    "    hlist = h.tolist()\n",
    "#     fmt[\"hatch\"] = sym\n",
    "    if h[1]== 0:\n",
    "        ax.axvline(-h[2]/h[0], label='{}x+{}y+{}=0'.format(*hlist))\n",
    "        xi = np.linspace(xlim[sign], -h[2]/h[0], 100)\n",
    "        ax.fill_between(xi, ylim[0], ylim[1], **fmt)\n",
    "    else:\n",
    "        ax.plot(x, (-h[2]-h[0]*x)/h[1], label='{}x+{}y+{}=0'.format(*hlist))\n",
    "        ax.fill_between(x, (-h[2]-h[0]*x)/h[1], ylim[sign], **fmt)\n",
    "x, y = zip(*hs.intersections)\n",
    "ax.plot(x, y, 'o', markersize=8)\n",
    "plt.show()"
   ]
  },
  {
   "cell_type": "code",
   "execution_count": 125,
   "metadata": {},
   "outputs": [
    {
     "data": {
      "text/plain": [
       "(0.95, 2.05, -0.1, 2.1)"
      ]
     },
     "execution_count": 125,
     "metadata": {},
     "output_type": "execute_result"
    },
    {
     "data": {
      "image/png": "[encoded data removed]",
      "text/plain": [
       "<Figure size 432x288 with 1 Axes>"
      ]
     },
     "metadata": {
      "needs_background": "light"
     },
     "output_type": "display_data"
    }
   ],
   "source": [
    "from scipy.spatial import ConvexHull\n",
    "\n",
    "xlim, ylim = (-1, 3), (-1, 3)\n",
    "\n",
    "points = hs.intersections\n",
    "hull = ConvexHull(points)\n",
    "import matplotlib.pyplot as plt\n",
    "plt.plot(points[:,0], points[:,1], 'o')\n",
    "for simplex in hull.simplices:\n",
    "    plt.plot(points[simplex, 0], points[simplex, 1], 'k-')\n",
    "plt.axis('equal')"
   ]
  },
  {
   "cell_type": "code",
   "execution_count": 188,
   "metadata": {},
   "outputs": [],
   "source": [
    "# random points at least 2r apart\n",
    "m = 1\n",
    "np.random.seed(3)\n",
    "x = [np.random.uniform(size=(2))]\n",
    "r = 0.16\n",
    "while(len(x) < m):\n",
    "    p = np.random.uniform(size=(2))\n",
    "    if min(np.abs(p-a).sum() for a in x) > 2*r:\n",
    "        x.append(p)\n",
    "# r = 0.145\n",
    "epsilon = r/2\n",
    "\n",
    "X = torch.Tensor(np.array(x))\n",
    "torch.manual_seed(1)\n",
    "y = (torch.rand(m)+0.5).long()"
   ]
  },
  {
   "cell_type": "code",
   "execution_count": 189,
   "metadata": {},
   "outputs": [],
   "source": [
    "import sys\n",
    "sys.path.append(\"../\")\n",
    "from convex_adversarial import robust_loss\n",
    "\n",
    "torch.manual_seed(1)\n",
    "robust_net = nn.Sequential(\n",
    "    nn.Linear(2,100),\n",
    "    nn.ReLU(),\n",
    "    nn.Linear(100,100),\n",
    "    nn.ReLU(),\n",
    "    nn.Linear(100,100),\n",
    "    nn.ReLU(),\n",
    "    nn.Linear(100,100),\n",
    "    nn.ReLU(),\n",
    "    nn.Linear(100,2)\n",
    ")\n",
    "# data = []\n",
    "# opt = optim.Adam(robust_net.parameters(), lr=1e-3)\n",
    "# for i in range(1000):\n",
    "#     robust_ce, robust_err = robust_loss(robust_net, epsilon, Variable(X), Variable(y))\n",
    "#     out = robust_net(Variable(X))\n",
    "#     l2 = nn.CrossEntropyLoss()(out, Variable(y))\n",
    "#     err = (out.max(1)[1].data != y).float().mean()\n",
    "#     data.append([l2.item(), robust_ce.item(), err, robust_err])\n",
    "#     if i % 100 == 0:\n",
    "#         print(robust_ce.item(), robust_err)\n",
    "#     opt.zero_grad()\n",
    "#     (robust_ce).backward()\n",
    "#     opt.step()\n",
    "\n",
    "# print(l2.data.item(), robust_ce.item(), robust_err)"
   ]
  },
  {
   "cell_type": "code",
   "execution_count": 190,
   "metadata": {},
   "outputs": [
    {
     "data": {
      "image/png": "[encoded data removed]",
      "text/plain": [
       "<Figure size 576x576 with 1 Axes>"
      ]
     },
     "metadata": {
      "needs_background": "light"
     },
     "output_type": "display_data"
    }
   ],
   "source": [
    "XX, YY = np.meshgrid(np.linspace(0, 1, 100), np.linspace(0, 1, 100))\n",
    "X0 = Variable(torch.Tensor(np.stack([np.ravel(XX), np.ravel(YY)]).T))\n",
    "y0 = robust_net(X0)\n",
    "ZZ = (y0[:,0] - y0[:,1]).resize(100,100).data.numpy()\n",
    "\n",
    "fig, ax = plt.subplots(figsize=(8,8))\n",
    "ax.contourf(XX,YY,-ZZ, cmap=\"coolwarm\", levels=np.linspace(-1000,1000,3))\n",
    "ax.scatter(X.numpy()[:,0], X.numpy()[:,1], c=y.numpy(), cmap=\"coolwarm\", s=70)\n",
    "ax.axis(\"equal\")\n",
    "ax.axis([0,1,0,1])\n",
    "for a in x:\n",
    "    ax.add_patch(patches.Rectangle((a[0]-r/2, a[1]-r/2), r, r, fill=False))\n"
   ]
  },
  {
   "cell_type": "code",
   "execution_count": 205,
   "metadata": {},
   "outputs": [
    {
     "data": {
      "image/png": "[encoded data removed]",
      "text/plain": [
       "<Figure size 576x576 with 1 Axes>"
      ]
     },
     "metadata": {
      "needs_background": "light"
     },
     "output_type": "display_data"
    }
   ],
   "source": [
    "fig, ax = plt.subplots(figsize=(8,8))\n",
    "for a in x:\n",
    "    XX, YY = np.meshgrid(np.linspace(a[0] - r/2, a[0] + r/2, 100), np.linspace(a[1] - r/2, a[1] + r/2, 100))\n",
    "    X0 = Variable(torch.Tensor(np.stack([np.ravel(XX), np.ravel(YY)]).T))\n",
    "    y0 = robust_net(X0).data.numpy()\n",
    "    ax.scatter(y0[:,0], y0[:,1], cmap=\"coolwarm\", s=.1)\n",
    "    break"
   ]
  },
  {
   "cell_type": "code",
   "execution_count": 192,
   "metadata": {},
   "outputs": [],
   "source": [
    "from convex_adversarial import DualNetBounds\n",
    "\n",
    "dual = DualNetBounds(robust_net, Variable(X), epsilon)"
   ]
  },
  {
   "cell_type": "code",
   "execution_count": 236,
   "metadata": {},
   "outputs": [
    {
     "name": "stdout",
     "output_type": "stream",
     "text": [
      "0\n",
      "45\n",
      "90\n",
      "135\n"
     ]
    }
   ],
   "source": [
    "hyperPlanes = []\n",
    "thetas = [0, 45, 90, 135]\n",
    "for kk in range(len(thetas)):\n",
    "    num_classes = 2\n",
    "#     theta = np.random.randint(0,90,[1])\n",
    "    theta = np.array(thetas[kk])\n",
    "    print(theta)\n",
    "    theta = np.pi*theta/180\n",
    "    theta = theta.repeat(num_classes)\n",
    "\n",
    "    c = Variable(torch.tensor([np.cos(theta), np.sin(theta)]).t().type_as(X.data)[y.data].unsqueeze(1))\\\n",
    "                                        .expand([y.data.shape[0],num_classes, num_classes])\n",
    "    #- torch.tensor([np.cos(theta), np.sin(theta)]).type_as(X.data).unsqueeze(0))\n",
    "    f_1 = dual.g(c)\n",
    "    f_2 = dual.g(-c)\n",
    "    hyperPlanes.append( (c[:,0], f_1, f_2 ))"
   ]
  },
  {
   "cell_type": "code",
   "execution_count": 237,
   "metadata": {},
   "outputs": [],
   "source": [
    "A = np.zeros([y.data.shape[0], len(hyperPlanes)*2, num_classes+1])\n",
    "for it_hyper, plane in enumerate(hyperPlanes):\n",
    "    c = plane[0]\n",
    "    for it_sample in range(y.data.shape[0]):\n",
    "        f1 = plane[1][it_sample]\n",
    "        f2 = plane[2][it_sample]\n",
    "        \n",
    "        A[it_sample, 2*it_hyper,:2] = c[it_sample].numpy()\n",
    "        A[it_sample, 2*it_hyper + 1,:2] = c[it_sample].numpy()\n",
    "\n",
    "        P0 = c[it_sample]*f1.data\n",
    "        P1 = c[it_sample]*f2.data\n",
    "        A[it_sample, 2*it_hyper + 1, 2] = - (c[it_sample][0]*P0[:1] + c[it_sample][1]*P0[1:]).numpy()\n",
    "        A[it_sample, 2*it_hyper + 1, 2] = - (c[it_sample][0]*P1[:1] + c[it_sample][1]*P1[1:]).numpy()\n"
   ]
  },
  {
   "cell_type": "code",
   "execution_count": 238,
   "metadata": {},
   "outputs": [],
   "source": [
    "from scipy.spatial import HalfspaceIntersection\n",
    "halfspaces = A[0]\n",
    "\n",
    "from scipy.optimize import linprog\n",
    "from matplotlib.patches import Circle\n",
    "norm_vector = np.reshape(np.linalg.norm(halfspaces[:, :-1], axis=1),\n",
    "    (halfspaces.shape[0], 1))\n",
    "\n",
    "# c = np.zeros((halfspaces.shape[1],))\n",
    "# c[-1] = -1\n",
    "# Au = np.hstack((halfspaces[:, :-1], norm_vector))\n",
    "# bu = - halfspaces[:, -1:]\n",
    "# res = linprog(c, A_ub=Au, b_ub=bu)\n",
    "# print(res)\n",
    "# feasible_point = res.x[:-1]\n",
    "# feasible_point = np.array([5., -2.])\n",
    "# hs = HalfspaceIntersection(halfspaces, feasible_point)"
   ]
  },
  {
   "cell_type": "code",
   "execution_count": 239,
   "metadata": {},
   "outputs": [
    {
     "data": {
      "text/plain": [
       "array([[ 1.00000000e+00,  0.00000000e+00,  0.00000000e+00],\n",
       "       [ 1.00000000e+00,  0.00000000e+00, -1.72496382e-02],\n",
       "       [ 7.07106769e-01,  7.07106769e-01,  0.00000000e+00],\n",
       "       [ 7.07106769e-01,  7.07106769e-01,  2.24166736e-02],\n",
       "       [ 6.12323426e-17,  1.00000000e+00,  0.00000000e+00],\n",
       "       [ 6.12323426e-17,  1.00000000e+00,  5.03241532e-02],\n",
       "       [-7.07106769e-01,  7.07106769e-01,  0.00000000e+00],\n",
       "       [-7.07106769e-01,  7.07106769e-01,  4.95403260e-02]])"
      ]
     },
     "execution_count": 239,
     "metadata": {},
     "output_type": "execute_result"
    }
   ],
   "source": [
    "halfspaces"
   ]
  },
  {
   "cell_type": "code",
   "execution_count": 244,
   "metadata": {},
   "outputs": [
    {
     "data": {
      "image/png": "[encoded data removed]",
      "text/plain": [
       "<Figure size 432x288 with 1 Axes>"
      ]
     },
     "metadata": {
      "needs_background": "light"
     },
     "output_type": "display_data"
    }
   ],
   "source": [
    "# import matplotlib.pyplot as plt\n",
    "fig = plt.figure()\n",
    "ax = fig.add_subplot('111', aspect='equal')\n",
    "xlim, ylim = (-.03, .04), (-1, 4)\n",
    "xx = np.linspace(*xlim, 100)\n",
    "# signs = [0, 0, -1, -1]\n",
    "fmt = {\"color\": None, \"edgecolor\": \"b\", \"alpha\": 0.5}\n",
    "for h in halfspaces:\n",
    "    hlist = h.tolist()\n",
    "    if h[1]== 0:\n",
    "        ax.axvline(-h[2]/h[0], c='b',label='{}x+{}y+{}=0'.format(*hlist))\n",
    "    else:\n",
    "        ax.plot(xx, (-h[2]-h[0]*xx)/h[1], c='b', label='{}x+{}y+{}=0'.format(*hlist))\n",
    "\n",
    "ax.axis([*xlim, -0.080, 0.08])\n",
    "\n",
    "for a in x:\n",
    "    XX, YY = np.meshgrid(np.linspace(a[0] - r/2, a[0] + r/2, 100), np.linspace(a[1] - r/2, a[1] + r/2, 100))\n",
    "    X0 = Variable(torch.Tensor(np.stack([np.ravel(XX), np.ravel(YY)]).T))\n",
    "    y0 = robust_net(X0).data.numpy()\n",
    "    ax.scatter(y0[:,0], y0[:,1], cmap=\"coolwarm\", s=.1)"
   ]
  },
  {
   "cell_type": "code",
   "execution_count": 245,
   "metadata": {},
   "outputs": [
    {
     "data": {
      "text/plain": [
       "(0.95, 2.05, -0.1, 2.1)"
      ]
     },
     "execution_count": 245,
     "metadata": {},
     "output_type": "execute_result"
    },
    {
     "data": {
      "image/png": "[encoded data removed]",
      "text/plain": [
       "<Figure size 432x288 with 1 Axes>"
      ]
     },
     "metadata": {
      "needs_background": "light"
     },
     "output_type": "display_data"
    }
   ],
   "source": [
    "from scipy.spatial import ConvexHull\n",
    "\n",
    "xlim, ylim = (-1, 3), (-1, 3)\n",
    "\n",
    "points = hs.intersections\n",
    "hull = ConvexHull(points)\n",
    "import matplotlib.pyplot as plt\n",
    "plt.plot(points[:,0], points[:,1], 'o')\n",
    "for simplex in hull.simplices:\n",
    "    plt.plot(points[simplex, 0], points[simplex, 1], 'k-')\n",
    "plt.axis('equal')"
   ]
  }
 ],
 "metadata": {
  "kernelspec": {
   "display_name": "Python 3",
   "language": "python",
   "name": "python3"
  },
  "language_info": {
   "codemirror_mode": {
    "name": "ipython",
    "version": 3
   },
   "file_extension": ".py",
   "mimetype": "text/x-python",
   "name": "python",
   "nbconvert_exporter": "python",
   "pygments_lexer": "ipython3",
   "version": "3.6.6"
  }
 },
 "nbformat": 4,
 "nbformat_minor": 2
}
